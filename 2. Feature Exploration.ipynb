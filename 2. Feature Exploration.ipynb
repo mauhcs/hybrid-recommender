{
 "cells": [
  {
   "cell_type": "markdown",
   "metadata": {},
   "source": [
    "In This notebook we plot the Features in `user_master` to have an idea of their distribution"
   ]
  },
  {
   "cell_type": "code",
   "execution_count": 1,
   "metadata": {
    "ExecuteTime": {
     "end_time": "2020-08-31T18:22:49.801951Z",
     "start_time": "2020-08-31T18:22:49.190958Z"
    }
   },
   "outputs": [
    {
     "name": "stdout",
     "output_type": "stream",
     "text": [
      "Populating the interactive namespace from numpy and matplotlib\n"
     ]
    }
   ],
   "source": [
    "import warnings\n",
    "warnings.filterwarnings(\"ignore\")\n",
    "\n",
    "%pylab inline\n",
    "%load_ext autoreload\n",
    "%autoreload 2\n",
    "\n",
    "import pandas as pd"
   ]
  },
  {
   "cell_type": "code",
   "execution_count": 2,
   "metadata": {
    "ExecuteTime": {
     "end_time": "2020-08-31T18:22:54.472959Z",
     "start_time": "2020-08-31T18:22:51.026252Z"
    }
   },
   "outputs": [],
   "source": [
    "import findspark\n",
    "findspark.init()\n",
    "import pyspark # only run after findspark.init()\n",
    "\n",
    "from pyspark.ml.evaluation import RegressionEvaluator\n",
    "from pyspark.ml.recommendation import ALS\n",
    "from pyspark.sql import Row, SQLContext\n",
    "from pyspark import SparkContext, SparkConf\n",
    "\n",
    "# In Jupyter you have to stop the current context first\n",
    "# sc.stop()\n",
    "\n",
    "# Create new config\n",
    "conf = SparkConf().set(\"spark.driver.maxResultSize\", \"20g\")\n",
    "\n",
    "sc = SparkContext(appName=\"PythonExplorer\", sparkHome=\"/usr/local/spark\", conf=conf)    \n",
    "sqlContext = SQLContext(sc)\n"
   ]
  },
  {
   "cell_type": "code",
   "execution_count": 3,
   "metadata": {
    "ExecuteTime": {
     "end_time": "2020-08-31T18:23:08.357903Z",
     "start_time": "2020-08-31T18:23:04.156566Z"
    },
    "scrolled": true
   },
   "outputs": [],
   "source": [
    "user_master  = sqlContext.read.csv(\"data/user_master.tsv\",sep=\"\\t\", header=True) "
   ]
  },
  {
   "cell_type": "code",
   "execution_count": 58,
   "metadata": {
    "ExecuteTime": {
     "end_time": "2020-08-28T02:51:37.838625Z",
     "start_time": "2020-08-28T02:51:37.820382Z"
    }
   },
   "outputs": [],
   "source": [
    "df = KMeansTrainer.make_features(user_master)"
   ]
  },
  {
   "cell_type": "code",
   "execution_count": 13,
   "metadata": {
    "ExecuteTime": {
     "end_time": "2020-08-31T18:24:36.367862Z",
     "start_time": "2020-08-31T18:24:34.216278Z"
    }
   },
   "outputs": [
    {
     "name": "stdout",
     "output_type": "stream",
     "text": [
      "Small Dataset Count: 182,674\n"
     ]
    }
   ],
   "source": [
    "small, train, test, val = user_master.randomSplit([0.1,0.5, 0.2, 0.1], seed=42)\n",
    "print(f\"Small Dataset Count: {small.count():,}\")"
   ]
  },
  {
   "cell_type": "code",
   "execution_count": 14,
   "metadata": {
    "ExecuteTime": {
     "end_time": "2020-08-31T18:24:37.828755Z",
     "start_time": "2020-08-31T18:24:37.815981Z"
    }
   },
   "outputs": [],
   "source": [
    "def spark_to_pandas(spark_df, take=5):\n",
    "  if take==-1:\n",
    "    return pd.DataFrame(spark_df.collect(), columns=spark_df.columns)\n",
    "  return pd.DataFrame(spark_df.take(take), columns=spark_df.columns)"
   ]
  },
  {
   "cell_type": "code",
   "execution_count": 15,
   "metadata": {
    "ExecuteTime": {
     "end_time": "2020-08-31T18:24:42.044573Z",
     "start_time": "2020-08-31T18:24:39.585970Z"
    }
   },
   "outputs": [
    {
     "data": {
      "text/html": [
       "<div>\n",
       "<style scoped>\n",
       "    .dataframe tbody tr th:only-of-type {\n",
       "        vertical-align: middle;\n",
       "    }\n",
       "\n",
       "    .dataframe tbody tr th {\n",
       "        vertical-align: top;\n",
       "    }\n",
       "\n",
       "    .dataframe thead th {\n",
       "        text-align: right;\n",
       "    }\n",
       "</style>\n",
       "<table border=\"1\" class=\"dataframe\">\n",
       "  <thead>\n",
       "    <tr style=\"text-align: right;\">\n",
       "      <th></th>\n",
       "      <th>feature1</th>\n",
       "      <th>count</th>\n",
       "    </tr>\n",
       "  </thead>\n",
       "  <tbody>\n",
       "    <tr>\n",
       "      <th>0</th>\n",
       "      <td>A2</td>\n",
       "      <td>51656</td>\n",
       "    </tr>\n",
       "    <tr>\n",
       "      <th>1</th>\n",
       "      <td>A3</td>\n",
       "      <td>1</td>\n",
       "    </tr>\n",
       "    <tr>\n",
       "      <th>2</th>\n",
       "      <td>A1</td>\n",
       "      <td>131017</td>\n",
       "    </tr>\n",
       "  </tbody>\n",
       "</table>\n",
       "</div>"
      ],
      "text/plain": [
       "  feature1   count\n",
       "0       A2   51656\n",
       "1       A3       1\n",
       "2       A1  131017"
      ]
     },
     "execution_count": 15,
     "metadata": {},
     "output_type": "execute_result"
    }
   ],
   "source": [
    "c = \"feature1\"\n",
    "count = small.groupBy(c).count()\n",
    "spark_to_pandas(count, -1)"
   ]
  },
  {
   "cell_type": "code",
   "execution_count": 16,
   "metadata": {
    "ExecuteTime": {
     "end_time": "2020-08-31T18:24:49.794162Z",
     "start_time": "2020-08-31T18:24:44.616070Z"
    }
   },
   "outputs": [
    {
     "data": {
      "text/plain": [
       "<BarContainer object of 47 artists>"
      ]
     },
     "execution_count": 16,
     "metadata": {},
     "output_type": "execute_result"
    },
    {
     "data": {
      "image/png": "[encoded data removed]",
      "text/plain": [
       "<Figure size 1440x360 with 1 Axes>"
      ]
     },
     "metadata": {
      "needs_background": "light"
     },
     "output_type": "display_data"
    }
   ],
   "source": [
    "c = \"feature2\"\n",
    "count = small.groupBy(c).count()\n",
    "spark_to_pandas(count)\n",
    "col_count = spark_to_pandas(count, -1)\n",
    "col_count.sort_values(\"count\", inplace=True, ascending=False)\n",
    "_ = plt.figure(figsize=(20,5))\n",
    "plt.bar(col_count[c],col_count[\"count\"])"
   ]
  },
  {
   "cell_type": "code",
   "execution_count": 17,
   "metadata": {
    "ExecuteTime": {
     "end_time": "2020-08-31T18:25:19.701286Z",
     "start_time": "2020-08-31T18:25:14.805917Z"
    }
   },
   "outputs": [
    {
     "data": {
      "text/plain": [
       "<BarContainer object of 11 artists>"
      ]
     },
     "execution_count": 17,
     "metadata": {},
     "output_type": "execute_result"
    },
    {
     "data": {
      "image/png": "[encoded data removed]",
      "text/plain": [
       "<Figure size 1440x360 with 1 Axes>"
      ]
     },
     "metadata": {
      "needs_background": "light"
     },
     "output_type": "display_data"
    }
   ],
   "source": [
    "c = \"feature3\"\n",
    "count = small.groupBy(c).count()\n",
    "spark_to_pandas(count)\n",
    "col_count = spark_to_pandas(count, -1)\n",
    "col_count.sort_values(\"count\", inplace=True, ascending=False)\n",
    "_ = plt.figure(figsize=(20,5))\n",
    "plt.bar(col_count[c],col_count[\"count\"])"
   ]
  },
  {
   "cell_type": "code",
   "execution_count": 18,
   "metadata": {
    "ExecuteTime": {
     "end_time": "2020-08-31T18:25:42.396882Z",
     "start_time": "2020-08-31T18:25:37.591115Z"
    }
   },
   "outputs": [
    {
     "data": {
      "text/plain": [
       "<BarContainer object of 2 artists>"
      ]
     },
     "execution_count": 18,
     "metadata": {},
     "output_type": "execute_result"
    },
    {
     "data": {
      "image/png": "[encoded data removed]",
      "text/plain": [
       "<Figure size 1440x360 with 1 Axes>"
      ]
     },
     "metadata": {
      "needs_background": "light"
     },
     "output_type": "display_data"
    }
   ],
   "source": [
    "c = \"feature4\"\n",
    "count = small.groupBy(c).count()\n",
    "spark_to_pandas(count)\n",
    "col_count = spark_to_pandas(count, -1)\n",
    "col_count.sort_values(\"count\", inplace=True, ascending=False)\n",
    "_ = plt.figure(figsize=(20,5))\n",
    "plt.bar(col_count[c],col_count[\"count\"])"
   ]
  },
  {
   "cell_type": "code",
   "execution_count": 19,
   "metadata": {
    "ExecuteTime": {
     "end_time": "2020-08-31T18:25:49.717825Z",
     "start_time": "2020-08-31T18:25:44.626358Z"
    }
   },
   "outputs": [
    {
     "data": {
      "text/plain": [
       "<BarContainer object of 11 artists>"
      ]
     },
     "execution_count": 19,
     "metadata": {},
     "output_type": "execute_result"
    },
    {
     "data": {
      "image/png": "[encoded data removed]",
      "text/plain": [
       "<Figure size 1440x360 with 1 Axes>"
      ]
     },
     "metadata": {
      "needs_background": "light"
     },
     "output_type": "display_data"
    }
   ],
   "source": [
    "c = \"feature5\"\n",
    "count = small.groupBy(c).count()\n",
    "spark_to_pandas(count)\n",
    "col_count = spark_to_pandas(count, -1)\n",
    "col_count.sort_values(\"count\", inplace=True, ascending=False)\n",
    "_ = plt.figure(figsize=(20,5))\n",
    "plt.bar(col_count[c],col_count[\"count\"])"
   ]
  },
  {
   "cell_type": "code",
   "execution_count": 20,
   "metadata": {
    "ExecuteTime": {
     "end_time": "2020-08-31T18:25:56.696962Z",
     "start_time": "2020-08-31T18:25:51.986453Z"
    }
   },
   "outputs": [
    {
     "data": {
      "text/plain": [
       "<BarContainer object of 10 artists>"
      ]
     },
     "execution_count": 20,
     "metadata": {},
     "output_type": "execute_result"
    },
    {
     "data": {
      "image/png": "[encoded data removed]",
      "text/plain": [
       "<Figure size 1440x360 with 1 Axes>"
      ]
     },
     "metadata": {
      "needs_background": "light"
     },
     "output_type": "display_data"
    }
   ],
   "source": [
    "c = \"feature6\"\n",
    "count = small.groupBy(c).count()\n",
    "spark_to_pandas(count)\n",
    "col_count = spark_to_pandas(count, -1)\n",
    "col_count.sort_values(\"count\", inplace=True, ascending=False)\n",
    "_ = plt.figure(figsize=(20,5))\n",
    "plt.bar(col_count[c],col_count[\"count\"])"
   ]
  },
  {
   "cell_type": "code",
   "execution_count": null,
   "metadata": {},
   "outputs": [],
   "source": []
  }
 ],
 "metadata": {
  "kernelspec": {
   "display_name": "Python 3",
   "language": "python",
   "name": "python3"
  },
  "language_info": {
   "codemirror_mode": {
    "name": "ipython",
    "version": 3
   },
   "file_extension": ".py",
   "mimetype": "text/x-python",
   "name": "python",
   "nbconvert_exporter": "python",
   "pygments_lexer": "ipython3",
   "version": "3.7.6"
  }
 },
 "nbformat": 4,
 "nbformat_minor": 4
}
