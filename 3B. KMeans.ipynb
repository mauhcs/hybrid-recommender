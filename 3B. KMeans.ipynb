{
 "cells": [
  {
   "cell_type": "code",
   "execution_count": 1,
   "metadata": {
    "ExecuteTime": {
     "end_time": "2020-08-31T17:49:12.437585Z",
     "start_time": "2020-08-31T17:49:11.871047Z"
    }
   },
   "outputs": [
    {
     "name": "stdout",
     "output_type": "stream",
     "text": [
      "Populating the interactive namespace from numpy and matplotlib\n"
     ]
    }
   ],
   "source": [
    "import warnings\n",
    "warnings.filterwarnings(\"ignore\")\n",
    "\n",
    "%pylab inline\n",
    "%load_ext autoreload\n",
    "%autoreload 2\n",
    "import pandas as pd"
   ]
  },
  {
   "cell_type": "code",
   "execution_count": 2,
   "metadata": {
    "ExecuteTime": {
     "end_time": "2020-08-31T17:49:17.834290Z",
     "start_time": "2020-08-31T17:49:13.636359Z"
    }
   },
   "outputs": [],
   "source": [
    "import findspark\n",
    "findspark.init()\n",
    "import pyspark # only run after findspark.init()\n",
    "\n",
    "from pyspark.ml.evaluation import RegressionEvaluator\n",
    "from pyspark.ml.recommendation import ALS\n",
    "from pyspark.sql import Row, SQLContext\n",
    "from pyspark import SparkContext, SparkConf\n",
    "from pyspark.sql import SparkSession\n",
    "\n",
    "# In Jupyter you have to stop the current context first\n",
    "# sc.stop()\n",
    "\n",
    "# Create new config\n",
    "conf = SparkConf().set(\"spark.driver.maxResultSize\", \"20g\")\n",
    "\n",
    "sc = SparkContext(appName=\"PythonKMeans\", sparkHome=\"/usr/local/spark\", conf=conf)    \n",
    "sqlContext = SQLContext(sc)\n"
   ]
  },
  {
   "cell_type": "code",
   "execution_count": 9,
   "metadata": {
    "ExecuteTime": {
     "end_time": "2020-08-31T17:52:59.517650Z",
     "start_time": "2020-08-31T17:52:59.505954Z"
    }
   },
   "outputs": [],
   "source": [
    "from model.kmeans_trainer import KMeansTrainer\n",
    "from pyspark.ml.clustering import KMeans, KMeansModel"
   ]
  },
  {
   "cell_type": "markdown",
   "metadata": {},
   "source": [
    "# KMeans - Content Based Filtering"
   ]
  },
  {
   "cell_type": "markdown",
   "metadata": {
    "heading_collapsed": true
   },
   "source": [
    "## Silhouette Analysis"
   ]
  },
  {
   "cell_type": "markdown",
   "metadata": {
    "hidden": true
   },
   "source": [
    "We run a Silhouette analysis to decide how many clusters to have"
   ]
  },
  {
   "cell_type": "code",
   "execution_count": 4,
   "metadata": {
    "ExecuteTime": {
     "end_time": "2020-08-30T12:01:20.373897Z",
     "start_time": "2020-08-30T12:01:11.391354Z"
    },
    "hidden": true
   },
   "outputs": [
    {
     "name": "stdout",
     "output_type": "stream",
     "text": [
      "root\n",
      " |-- features: vector (nullable = true)\n",
      " |-- feature1: string (nullable = true)\n",
      " |-- feature2: string (nullable = true)\n",
      " |-- feature3: string (nullable = true)\n",
      " |-- feature4: string (nullable = true)\n",
      " |-- feature5: string (nullable = true)\n",
      " |-- feature6: string (nullable = true)\n",
      " |-- user_id: string (nullable = true)\n",
      "\n"
     ]
    }
   ],
   "source": [
    "train = KMeansTrainer.make_features(user_master)"
   ]
  },
  {
   "cell_type": "markdown",
   "metadata": {
    "heading_collapsed": true,
    "hidden": true
   },
   "source": [
    "### 2 to 100 clusters"
   ]
  },
  {
   "cell_type": "code",
   "execution_count": 21,
   "metadata": {
    "ExecuteTime": {
     "end_time": "2020-08-30T13:49:28.274885Z",
     "start_time": "2020-08-30T13:24:32.461639Z"
    },
    "hidden": true,
    "scrolled": true
   },
   "outputs": [
    {
     "name": "stdout",
     "output_type": "stream",
     "text": [
      "12\n",
      "silhouette score: 0.2236\n",
      "13\n",
      "silhouette score: 0.2320\n",
      "14\n",
      "silhouette score: 0.1993\n",
      "15\n",
      "silhouette score: 0.2240\n",
      "16\n",
      "silhouette score: 0.2519\n",
      "17\n",
      "silhouette score: 0.2575\n",
      "18\n",
      "silhouette score: 0.2436\n",
      "19\n",
      "silhouette score: 0.2492\n",
      "20\n",
      "silhouette score: 0.2527\n",
      "21\n",
      "silhouette score: 0.2402\n",
      "22\n",
      "silhouette score: 0.2561\n",
      "23\n",
      "silhouette score: 0.2642\n",
      "24\n",
      "silhouette score: 0.2454\n",
      "25\n",
      "silhouette score: 0.2507\n",
      "26\n",
      "silhouette score: 0.2430\n",
      "27\n",
      "silhouette score: 0.2559\n",
      "28\n",
      "silhouette score: 0.2517\n",
      "29\n",
      "silhouette score: 0.2715\n",
      "30\n",
      "silhouette score: 0.2724\n",
      "31\n",
      "silhouette score: 0.2677\n",
      "32\n",
      "silhouette score: 0.2687\n",
      "33\n",
      "silhouette score: 0.2731\n",
      "34\n",
      "silhouette score: 0.2676\n",
      "35\n",
      "silhouette score: 0.2486\n",
      "36\n",
      "silhouette score: 0.2500\n",
      "37\n",
      "silhouette score: 0.2764\n",
      "38\n",
      "silhouette score: 0.2415\n",
      "39\n",
      "silhouette score: 0.2907\n",
      "40\n",
      "silhouette score: 0.2460\n",
      "41\n",
      "silhouette score: 0.2365\n",
      "42\n",
      "silhouette score: 0.2582\n",
      "43\n",
      "silhouette score: 0.2325\n",
      "44\n",
      "silhouette score: 0.2334\n",
      "45\n",
      "silhouette score: 0.2537\n",
      "46\n",
      "silhouette score: 0.2629\n",
      "47\n",
      "silhouette score: 0.2332\n",
      "48\n",
      "silhouette score: 0.2665\n",
      "49\n",
      "silhouette score: 0.2729\n",
      "50\n",
      "silhouette score: 0.2667\n",
      "51\n",
      "silhouette score: 0.2817\n",
      "52\n",
      "silhouette score: 0.2615\n",
      "53\n",
      "silhouette score: 0.2529\n",
      "54\n",
      "silhouette score: 0.2538\n",
      "55\n",
      "silhouette score: 0.2691\n",
      "56\n",
      "silhouette score: 0.2546\n",
      "57\n",
      "silhouette score: 0.2446\n",
      "58\n",
      "silhouette score: 0.2619\n",
      "59\n",
      "silhouette score: 0.2769\n",
      "60\n",
      "silhouette score: 0.2793\n",
      "61\n",
      "silhouette score: 0.2327\n",
      "62\n",
      "silhouette score: 0.2675\n",
      "63\n",
      "silhouette score: 0.2574\n",
      "64\n",
      "silhouette score: 0.2956\n",
      "65\n",
      "silhouette score: 0.3087\n",
      "66\n",
      "silhouette score: 0.2433\n",
      "67\n",
      "silhouette score: 0.2549\n",
      "68\n",
      "silhouette score: 0.2691\n",
      "69\n",
      "silhouette score: 0.2517\n",
      "70\n",
      "silhouette score: 0.2742\n",
      "71\n",
      "silhouette score: 0.2475\n",
      "72\n",
      "silhouette score: 0.2535\n",
      "73\n",
      "silhouette score: 0.2569\n",
      "74\n",
      "silhouette score: 0.2699\n",
      "75\n",
      "silhouette score: 0.2567\n",
      "76\n",
      "silhouette score: 0.2667\n",
      "77\n",
      "silhouette score: 0.2519\n",
      "78\n",
      "silhouette score: 0.2308\n",
      "79\n",
      "silhouette score: 0.2343\n",
      "80\n",
      "silhouette score: 0.2504\n",
      "81\n",
      "silhouette score: 0.2427\n",
      "82\n",
      "silhouette score: 0.2471\n",
      "83\n",
      "silhouette score: 0.2402\n",
      "84\n",
      "silhouette score: 0.2359\n",
      "85\n",
      "silhouette score: 0.2363\n",
      "86\n",
      "silhouette score: 0.2384\n",
      "87\n",
      "silhouette score: 0.2643\n",
      "88\n",
      "silhouette score: 0.2436\n",
      "89\n",
      "silhouette score: 0.2552\n",
      "90\n",
      "silhouette score: 0.2529\n",
      "91\n",
      "silhouette score: 0.2443\n",
      "92\n",
      "silhouette score: 0.2615\n",
      "93\n",
      "silhouette score: 0.2586\n",
      "94\n",
      "silhouette score: 0.2465\n",
      "95\n",
      "silhouette score: 0.2412\n",
      "96\n",
      "silhouette score: 0.2426\n",
      "97\n",
      "silhouette score: 0.2531\n",
      "98\n",
      "silhouette score: 0.2556\n",
      "99\n",
      "silhouette score: 0.2585\n",
      "100\n",
      "silhouette score: 0.2468\n",
      "101\n",
      "silhouette score: 0.2437\n"
     ]
    }
   ],
   "source": [
    "SILS = []\n",
    "for k in [2+ i for i in range(10,100) ]:\n",
    "  print(k)\n",
    "  kmeans = KMeansTrainer(k)\n",
    "  SILS.append((k,kmeans.fit(train, silhouette_score=True)))"
   ]
  },
  {
   "cell_type": "code",
   "execution_count": 22,
   "metadata": {
    "ExecuteTime": {
     "end_time": "2020-08-30T13:49:52.457282Z",
     "start_time": "2020-08-30T13:49:52.352355Z"
    },
    "hidden": true
   },
   "outputs": [
    {
     "data": {
      "text/plain": [
       "[<matplotlib.lines.Line2D at 0x7f9605fb2a30>]"
      ]
     },
     "execution_count": 22,
     "metadata": {},
     "output_type": "execute_result"
    },
    {
     "data": {
      "image/png": "[encoded data removed]",
      "text/plain": [
       "<Figure size 432x288 with 1 Axes>"
      ]
     },
     "metadata": {
      "needs_background": "light"
     },
     "output_type": "display_data"
    }
   ],
   "source": [
    "sils = pd.DataFrame(SILS, columns=[\"clusters\", \"silhouette\"])\n",
    "plt.plot(sils.clusters, sils.silhouette)"
   ]
  },
  {
   "cell_type": "markdown",
   "metadata": {
    "heading_collapsed": true,
    "hidden": true
   },
   "source": [
    "### 200 ~ 1000"
   ]
  },
  {
   "cell_type": "code",
   "execution_count": 132,
   "metadata": {
    "ExecuteTime": {
     "end_time": "2020-08-31T17:43:30.299254Z",
     "start_time": "2020-08-31T17:43:30.241581Z"
    },
    "hidden": true
   },
   "outputs": [],
   "source": [
    "#SILS = []\n",
    "for k in [200+ i*100 for i in range(10) ]:\n",
    "  print(k)\n",
    "  kmeans = KMeansTrainer(k)\n",
    "  SILS.append((k,kmeans.fit(train, silhouette_score=True)))"
   ]
  },
  {
   "cell_type": "code",
   "execution_count": 24,
   "metadata": {
    "ExecuteTime": {
     "end_time": "2020-08-30T13:50:45.062800Z",
     "start_time": "2020-08-30T13:50:44.957032Z"
    },
    "hidden": true
   },
   "outputs": [
    {
     "data": {
      "text/plain": [
       "[<matplotlib.lines.Line2D at 0x7f9605f29940>]"
      ]
     },
     "execution_count": 24,
     "metadata": {},
     "output_type": "execute_result"
    },
    {
     "data": {
      "image/png": "[encoded data removed]",
      "text/plain": [
       "<Figure size 432x288 with 1 Axes>"
      ]
     },
     "metadata": {
      "needs_background": "light"
     },
     "output_type": "display_data"
    }
   ],
   "source": [
    "sils = pd.DataFrame(SILS, columns=[\"clusters\", \"silhouette\"])\n",
    "plt.plot(sils.clusters, sils.silhouette)"
   ]
  },
  {
   "cell_type": "markdown",
   "metadata": {
    "heading_collapsed": true,
    "hidden": true
   },
   "source": [
    "### 10,000 and 100,000 Clusters"
   ]
  },
  {
   "cell_type": "code",
   "execution_count": 28,
   "metadata": {
    "ExecuteTime": {
     "end_time": "2020-08-30T13:53:12.492529Z",
     "start_time": "2020-08-30T13:53:12.473175Z"
    },
    "hidden": true
   },
   "outputs": [
    {
     "data": {
      "text/html": [
       "<div>\n",
       "<style scoped>\n",
       "    .dataframe tbody tr th:only-of-type {\n",
       "        vertical-align: middle;\n",
       "    }\n",
       "\n",
       "    .dataframe tbody tr th {\n",
       "        vertical-align: top;\n",
       "    }\n",
       "\n",
       "    .dataframe thead th {\n",
       "        text-align: right;\n",
       "    }\n",
       "</style>\n",
       "<table border=\"1\" class=\"dataframe\">\n",
       "  <thead>\n",
       "    <tr style=\"text-align: right;\">\n",
       "      <th></th>\n",
       "      <th>K</th>\n",
       "      <th>silhouete score</th>\n",
       "    </tr>\n",
       "  </thead>\n",
       "  <tbody>\n",
       "    <tr>\n",
       "      <th>0</th>\n",
       "      <td>100</td>\n",
       "      <td>0.246800</td>\n",
       "    </tr>\n",
       "    <tr>\n",
       "      <th>1</th>\n",
       "      <td>200</td>\n",
       "      <td>0.296600</td>\n",
       "    </tr>\n",
       "    <tr>\n",
       "      <th>2</th>\n",
       "      <td>300</td>\n",
       "      <td>0.324200</td>\n",
       "    </tr>\n",
       "    <tr>\n",
       "      <th>3</th>\n",
       "      <td>400</td>\n",
       "      <td>0.387600</td>\n",
       "    </tr>\n",
       "    <tr>\n",
       "      <th>4</th>\n",
       "      <td>500</td>\n",
       "      <td>0.412800</td>\n",
       "    </tr>\n",
       "    <tr>\n",
       "      <th>5</th>\n",
       "      <td>600</td>\n",
       "      <td>0.459400</td>\n",
       "    </tr>\n",
       "    <tr>\n",
       "      <th>6</th>\n",
       "      <td>700</td>\n",
       "      <td>0.477700</td>\n",
       "    </tr>\n",
       "    <tr>\n",
       "      <th>7</th>\n",
       "      <td>800</td>\n",
       "      <td>0.509100</td>\n",
       "    </tr>\n",
       "    <tr>\n",
       "      <th>8</th>\n",
       "      <td>900</td>\n",
       "      <td>0.545300</td>\n",
       "    </tr>\n",
       "    <tr>\n",
       "      <th>9</th>\n",
       "      <td>1,000</td>\n",
       "      <td>0.565200</td>\n",
       "    </tr>\n",
       "    <tr>\n",
       "      <th>10</th>\n",
       "      <td>2,000</td>\n",
       "      <td>0.737595</td>\n",
       "    </tr>\n",
       "    <tr>\n",
       "      <th>11</th>\n",
       "      <td>3,000</td>\n",
       "      <td>0.827398</td>\n",
       "    </tr>\n",
       "    <tr>\n",
       "      <th>12</th>\n",
       "      <td>4,000</td>\n",
       "      <td>0.889325</td>\n",
       "    </tr>\n",
       "    <tr>\n",
       "      <th>13</th>\n",
       "      <td>10,000</td>\n",
       "      <td>0.982678</td>\n",
       "    </tr>\n",
       "    <tr>\n",
       "      <th>14</th>\n",
       "      <td>100,000</td>\n",
       "      <td>0.997158</td>\n",
       "    </tr>\n",
       "  </tbody>\n",
       "</table>\n",
       "</div>"
      ],
      "text/plain": [
       "          K  silhouete score\n",
       "0       100         0.246800\n",
       "1       200         0.296600\n",
       "2       300         0.324200\n",
       "3       400         0.387600\n",
       "4       500         0.412800\n",
       "5       600         0.459400\n",
       "6       700         0.477700\n",
       "7       800         0.509100\n",
       "8       900         0.545300\n",
       "9     1,000         0.565200\n",
       "10    2,000         0.737595\n",
       "11    3,000         0.827398\n",
       "12    4,000         0.889325\n",
       "13   10,000         0.982678\n",
       "14  100,000         0.997158"
      ]
     },
     "execution_count": 28,
     "metadata": {},
     "output_type": "execute_result"
    }
   ],
   "source": [
    "pd.DataFrame([(100, 0.2468),\n",
    " (200, 0.2966),\n",
    " (300, 0.3242),\n",
    " (400, 0.3876),\n",
    " (500, 0.4128),\n",
    " (600, 0.4594),\n",
    " (700, 0.4777),\n",
    " (800, 0.5091),\n",
    " (900, 0.5453),\n",
    " (\"1,000\", 0.5652),\n",
    " (\"2,000\", 0.7375954035428014),\n",
    " (\"3,000\", 0.8273978500122793),\n",
    " (\"4,000\", 0.8893246115465561),\n",
    " (\"10,000\", 0.9826784149512843),\n",
    " (\"100,000\", 0.9971577543822016)], columns=[\"K\", \"silhouete score\"])"
   ]
  },
  {
   "cell_type": "code",
   "execution_count": 17,
   "metadata": {
    "ExecuteTime": {
     "end_time": "2020-08-30T13:21:35.197842Z",
     "start_time": "2020-08-30T13:21:35.091316Z"
    },
    "hidden": true
   },
   "outputs": [
    {
     "data": {
      "text/plain": [
       "[<matplotlib.lines.Line2D at 0x7f9605fe44c0>]"
      ]
     },
     "execution_count": 17,
     "metadata": {},
     "output_type": "execute_result"
    },
    {
     "data": {
      "image/png": "[encoded data removed]",
      "text/plain": [
       "<Figure size 432x288 with 1 Axes>"
      ]
     },
     "metadata": {
      "needs_background": "light"
     },
     "output_type": "display_data"
    }
   ],
   "source": [
    "sils = pd.DataFrame(s, columns=[\"clusters\", \"silhouette\"])\n",
    "plt.plot(sils.clusters, sils.silhouette)"
   ]
  },
  {
   "cell_type": "markdown",
   "metadata": {},
   "source": [
    "## Running the Model"
   ]
  },
  {
   "cell_type": "code",
   "execution_count": null,
   "metadata": {},
   "outputs": [],
   "source": [
    "target_users = sqlContext.read.csv(\"data/target_users.tsv\",sep=\"\\t\", header=True)\n",
    "user_master  = sqlContext.read.csv(\"data/user_master.tsv\",sep=\"\\t\", header=True) "
   ]
  },
  {
   "cell_type": "code",
   "execution_count": 7,
   "metadata": {
    "ExecuteTime": {
     "end_time": "2020-08-31T17:51:05.053891Z",
     "start_time": "2020-08-31T17:50:54.466380Z"
    }
   },
   "outputs": [],
   "source": [
    "train = KMeansTrainer.make_features(user_master)\n",
    "frequencies = sqlContext.read.csv(\"data/train_frequencies.tsv\",sep=\"\\t\", header=True)"
   ]
  },
  {
   "cell_type": "code",
   "execution_count": 15,
   "metadata": {
    "ExecuteTime": {
     "end_time": "2020-08-31T17:54:17.216120Z",
     "start_time": "2020-08-31T17:54:17.205732Z"
    }
   },
   "outputs": [],
   "source": [
    "# Uncomment this cell if you want to fit the cluster yourself\n",
    "\n",
    "#kmeans = KMeans().setK(5000).setSeed(42)\n",
    "#model = kmeans.fit(train)"
   ]
  },
  {
   "cell_type": "code",
   "execution_count": 16,
   "metadata": {
    "ExecuteTime": {
     "end_time": "2020-08-31T17:54:42.855729Z",
     "start_time": "2020-08-31T17:54:42.665725Z"
    },
    "scrolled": true
   },
   "outputs": [],
   "source": [
    "# If you did not fit the cluster you can load a pre-fitted model in this cell\n",
    "\n",
    "from pyspark.ml.clustering import KMeansModel\n",
    "model = KMeansModel.load(\"models/kmeans_5000.pkl\")"
   ]
  },
  {
   "cell_type": "code",
   "execution_count": 18,
   "metadata": {
    "ExecuteTime": {
     "end_time": "2020-08-31T17:56:01.253790Z",
     "start_time": "2020-08-31T17:56:01.173570Z"
    }
   },
   "outputs": [],
   "source": [
    "import pyspark.sql.functions as sf\n",
    "from pyspark.sql.functions import desc\n",
    "\n",
    "# In order to make a cluster based recommendation \n",
    "# We need to rank the items per cluster and by \n",
    "# the number of times it appeared in the 'frequency' columns\n",
    "\n",
    "all_clusters = model.transform(train)\n",
    "cluster_hist = frequencies.join(all_clusters, [\"user_id\"], how=\"inner\")\n",
    "cluster_hist = cluster_hist.groupBy([\"prediction\",\"item_id\"]).agg(sf.sum(\"frequency\").alias(\"frequency\"))\n",
    "cluster_hist = cluster_hist.sort(desc(\"frequency\"))"
   ]
  },
  {
   "cell_type": "code",
   "execution_count": 123,
   "metadata": {
    "ExecuteTime": {
     "end_time": "2020-08-31T11:26:44.243982Z",
     "start_time": "2020-08-31T11:26:44.217111Z"
    }
   },
   "outputs": [],
   "source": [
    "\n"
   ]
  },
  {
   "cell_type": "code",
   "execution_count": 19,
   "metadata": {
    "ExecuteTime": {
     "end_time": "2020-08-31T17:57:46.807679Z",
     "start_time": "2020-08-31T17:57:46.750892Z"
    }
   },
   "outputs": [],
   "source": [
    "import pyspark.sql.functions as f\n",
    "# In this cell \n",
    "# Find the cluster of each target user\n",
    "# Then, group the cluster recommendation \n",
    "# by user_id to create a recommendation_list\n",
    "\n",
    "\n",
    "# Limit the prediction to the target_users\n",
    "pred = model.transform(train.join(target_users, [\"user_id\"], how=\"inner\"))\n",
    "\n",
    "userRecs = (cluster_hist.join(pred, [\"prediction\"], how=\"inner\")\n",
    " .groupby(\"user_id\")\n",
    " .agg(f.collect_list(\"item_id\").alias(\"recommended_items\") )\n",
    ")"
   ]
  },
  {
   "cell_type": "code",
   "execution_count": 20,
   "metadata": {
    "ExecuteTime": {
     "end_time": "2020-08-31T18:00:45.606142Z",
     "start_time": "2020-08-31T17:58:10.990840Z"
    }
   },
   "outputs": [],
   "source": [
    "from pyspark.sql.functions import udf\n",
    "from pyspark.sql.types import StringType\n",
    "\n",
    "# This Column Parsers the recommended_items list \n",
    "# and writes as a string so our 'evaluate' function\n",
    "# can read it. \n",
    "\n",
    "# The trick part is creating a udf function \n",
    "# So pySpark can pickle it and share with all\n",
    "# executors. \n",
    "\n",
    "# The last line saves the recommendation list to a file \n",
    "# read to be read by the 'evaluate' function\n",
    "\n",
    "def array_to_string(my_list):\n",
    "    return str(','.join([str(elem) for elem in my_list[:72]]))\n",
    "\n",
    "array_to_string_udf = udf(array_to_string, StringType())\n",
    "to_csv = userRecs.withColumn('recommended_items', \n",
    "                             array_to_string_udf(userRecs[\"recommended_items\"]))\n",
    "to_csv.write.csv(f\"data/spark_kmeans_target_users.tsv\", sep=\"\\t\", mode=\"overwrite\")"
   ]
  },
  {
   "cell_type": "code",
   "execution_count": 21,
   "metadata": {
    "ExecuteTime": {
     "end_time": "2020-08-31T18:27:30.679421Z",
     "start_time": "2020-08-31T18:01:37.456207Z"
    }
   },
   "outputs": [
    {
     "name": "stdout",
     "output_type": "stream",
     "text": [
      "248,000 / 248,487 (99.80)%\n",
      "Stoping Writer\n",
      "Entropy: 14.30014044466658\n",
      "nDCG avg:0.001138\n"
     ]
    }
   ],
   "source": [
    "# We Evaluate the recommended items under nDCG@72 metrics \n",
    "# Using our custom evaluate function in the `utils` folder\n",
    "\n",
    "from utils.evaluate import evaluate\n",
    "filepath = \"data/spark_kmeans_target_users.tsv\"\n",
    "nDCGs, entropy, globalVar = evaluate(filepath,  spark_file=True, spark_SQLContext=sqlContext)\n",
    "\n",
    "metrics = pd.DataFrame(nDCGs, columns=[\"user_id\", \"nDCGs\"])\n",
    "print(f\"nDCG avg:{metrics.nDCGs.mean():.4}\")"
   ]
  },
  {
   "cell_type": "code",
   "execution_count": 22,
   "metadata": {
    "ExecuteTime": {
     "end_time": "2020-08-31T18:31:07.754706Z",
     "start_time": "2020-08-31T18:31:06.985806Z"
    }
   },
   "outputs": [
    {
     "data": {
      "image/png": "[encoded data removed]",
      "text/plain": [
       "<Figure size 864x216 with 1 Axes>"
      ]
     },
     "metadata": {
      "needs_background": "light"
     },
     "output_type": "display_data"
    }
   ],
   "source": [
    "# k = 5000\n",
    "avg = metrics.nDCGs.mean()\n",
    "_ = plt.figure(figsize=(12,3))\n",
    "_ = plt.hist(metrics.nDCGs, bins=100, label=f\"Avg:{avg:>21.4f}\\nEntropy@72: {entropy:.4f}\")\n",
    "plt.title(f\"{filepath}\")\n",
    "plt.xlabel(\"nDCG@72\")\n",
    "_ = plt.legend()"
   ]
  },
  {
   "cell_type": "code",
   "execution_count": 116,
   "metadata": {
    "ExecuteTime": {
     "end_time": "2020-08-31T11:20:07.623634Z",
     "start_time": "2020-08-31T11:20:06.967004Z"
    }
   },
   "outputs": [
    {
     "data": {
      "image/png": "[encoded data removed]",
      "text/plain": [
       "<Figure size 864x216 with 1 Axes>"
      ]
     },
     "metadata": {
      "needs_background": "light"
     },
     "output_type": "display_data"
    }
   ],
   "source": [
    "# This plot is from the same cells above with the difference the model has 3000 clusters instead of 5000\n",
    "# k = 3000\n",
    "avg = metrics.nDCGs.mean()\n",
    "_ = plt.figure(figsize=(12,3))\n",
    "_ = plt.hist(metrics.nDCGs, bins=100, label=f\"Avg:{avg:>21.4f}\\nEntropy@72: {entropy:.4f}\")\n",
    "plt.title(f\"{filepath}\")\n",
    "plt.xlabel(\"nDCG@72\")\n",
    "_ = plt.legend()"
   ]
  },
  {
   "cell_type": "code",
   "execution_count": null,
   "metadata": {},
   "outputs": [],
   "source": []
  }
 ],
 "metadata": {
  "kernelspec": {
   "display_name": "Python 3",
   "language": "python",
   "name": "python3"
  },
  "language_info": {
   "codemirror_mode": {
    "name": "ipython",
    "version": 3
   },
   "file_extension": ".py",
   "mimetype": "text/x-python",
   "name": "python",
   "nbconvert_exporter": "python",
   "pygments_lexer": "ipython3",
   "version": "3.7.6"
  }
 },
 "nbformat": 4,
 "nbformat_minor": 4
}
