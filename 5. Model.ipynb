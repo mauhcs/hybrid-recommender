{
 "cells": [
  {
   "cell_type": "code",
   "execution_count": 1,
   "metadata": {
    "ExecuteTime": {
     "end_time": "2020-09-01T11:34:16.348363Z",
     "start_time": "2020-09-01T11:34:12.757218Z"
    }
   },
   "outputs": [
    {
     "name": "stdout",
     "output_type": "stream",
     "text": [
      "Populating the interactive namespace from numpy and matplotlib\n"
     ]
    }
   ],
   "source": [
    "import warnings\n",
    "warnings.filterwarnings(\"ignore\")\n",
    "\n",
    "%pylab inline\n",
    "%load_ext autoreload\n",
    "%autoreload 2\n",
    "\n",
    "import pandas as pd\n",
    "\n",
    "import findspark \n",
    "findspark.init() # Used to properly connect to Spark Master\n",
    "import pyspark   # Only run after findspark.init()\n",
    "\n",
    "from pyspark.sql import SQLContext\n",
    "from pyspark import SparkContext, SparkConf\n",
    "\n",
    "conf = SparkConf().set(\"spark.driver.maxResultSize\", \"20g\") \n",
    "\n",
    "sc = SparkContext(appName=\"RecModel\", sparkHome=\"/usr/local/spark\", conf=conf)    \n",
    "sqlContext = SQLContext(sc)\n",
    "\n",
    "\n",
    "from pyspark.sql.types import StructType, StructField, IntegerType, FloatType\n",
    "from pyspark.sql.utils import AnalysisException\n",
    "\n",
    "import pyspark.sql.functions as sf\n",
    "from pyspark.sql.types import StringType\n",
    "\n",
    "\n",
    "from model.als_trainer import ALSTrainer\n",
    "from pyspark.ml.recommendation import ALSModel\n",
    "\n",
    "from utils.evaluate import spark_filepath_to_pandas\n",
    "from utils.evaluate import evaluate\n",
    "\n",
    "from pyspark.ml.clustering import KMeansModel\n",
    "from pyspark.ml.evaluation import ClusteringEvaluator\n",
    "from pyspark.ml.recommendation import ALSModel\n",
    "\n",
    "from model.kmeans_trainer import KMeansTrainer\n",
    "\n",
    "from utils.evaluate import evaluate, spark_filepath_to_pandas\n",
    "import pandas as pd"
   ]
  },
  {
   "cell_type": "code",
   "execution_count": 2,
   "metadata": {
    "ExecuteTime": {
     "end_time": "2020-09-01T11:34:20.036901Z",
     "start_time": "2020-09-01T11:34:16.350138Z"
    }
   },
   "outputs": [],
   "source": [
    "target_users  = sqlContext.read.csv(\"data/target_users.tsv\",sep=\"\\t\", header=True).repartition(200)"
   ]
  },
  {
   "cell_type": "markdown",
   "metadata": {},
   "source": [
    "# RecModel: The Recomendation System"
   ]
  },
  {
   "cell_type": "code",
   "execution_count": 32,
   "metadata": {
    "ExecuteTime": {
     "end_time": "2020-09-01T12:31:06.273223Z",
     "start_time": "2020-09-01T12:31:06.251861Z"
    }
   },
   "outputs": [],
   "source": [
    "class RecModel:\n",
    "  \n",
    "  def __init__(self, sqlContext, k=5000, maxIter=20, regParam=0.1, rank=200):\n",
    "    self.k        = k\n",
    "    self.maxIter  = maxIter\n",
    "    self.regParam = regParam\n",
    "    self.rank     = rank\n",
    "    \n",
    "    self.sqlContext = sqlContext\n",
    "    \n",
    "    self.kmeans_model = KMeansModel.load(f\"models/kmeans_{k}.pkl\")\n",
    "    self.als_model    = ALSModel.load(f\"models/asl_{maxIter}_{str(regParam).replace('.','')}_{rank}.pkl\")\n",
    "    \n",
    "    self.kmeans_train = self.load_cluster_train()\n",
    "    self.cluster_hist = self.load_cluster_history()\n",
    "    \n",
    "    # Simple recommendation for cold start\n",
    "    top72 = self.cluster_hist.groupBy(\"item_id\").agg(sf.sum(\"frequency\").alias(\"frequency\"))\n",
    "    top72 = top72.sort(sf.desc(\"frequency\"))\n",
    "    self.top72 = [str(r.item_id) for r in top72.take(72)]\n",
    "    \n",
    "  def kmeans_predict(self, user):\n",
    "    pass\n",
    "    \n",
    "  def load_cluster_train(self):\n",
    "    user_master  = self.sqlContext.read.csv(\"data/user_master.tsv\",sep=\"\\t\", header=True) \n",
    "    self.kmeans_train = KMeansTrainer.make_features(user_master)\n",
    "    return self.kmeans_train\n",
    "  \n",
    "  def load_cluster_history(self):\n",
    "    \n",
    "    cluster_hist = self.try_load_cluster_hist_from_file()\n",
    "    if cluster_hist is None:\n",
    "      cluster_hist = self.setup_cluster_hist_from_start()\n",
    "      \n",
    "    return cluster_hist\n",
    "      \n",
    "  def try_load_cluster_hist_from_file(self):\n",
    "    \"\"\"\n",
    "    Get cluster_history from file if available\n",
    "    \"\"\"\n",
    "    schema = StructType([\n",
    "          StructField(\"prediction\", IntegerType()), \n",
    "          StructField(\"item_id\", IntegerType()), \n",
    "          StructField(\"frequency\", FloatType()),\n",
    "        ])\n",
    "\n",
    "    try:\n",
    "      return self.sqlContext.read.csv(f\"data/spark_kmeans_cluster_hist_{self.k}.tsv\", \n",
    "                                       sep=\"\\t\", header=True, schema=schema).repartition(100)\n",
    "    except AnalysisException:\n",
    "      print(f\"Did not find cluster hist at\", f\"data/spark_kmeans_cluster_hist_{self.k}.tsv\")\n",
    "    \n",
    "  \n",
    "  def setup_cluster_hist_from_start(self):\n",
    "    \"\"\"\n",
    "    Setup cluster history from user master + training data. \n",
    "    Essentially count the item purchases per cluster and save it in the cluster_hist table.\n",
    "    \"\"\"\n",
    "    print(\"Seting up cluster history from start. It should take a few seconds...\")    \n",
    "    \n",
    "    frequencies  = self.sqlContext.read.csv(\"data/train_frequencies.tsv\",sep=\"\\t\", header=True)\n",
    "    if self.kmeans_train is None:\n",
    "      self.load_cluster_train()\n",
    "    all_clusters = self.kmeans_model.transform(self.kmeans_train)\n",
    "    \n",
    "    \n",
    "    cluster_hist = frequencies.join(all_clusters, [\"user_id\"], how=\"inner\")\n",
    "    cluster_hist = cluster_hist.groupBy([\"prediction\",\"item_id\"]).agg(sf.sum(\"frequency\").alias(\"frequency\"))\n",
    "    cluster_hist = cluster_hist.sort(sf.desc(\"frequency\"))\n",
    "    \n",
    "    cluster_hist = cluster_hist.repartition(100)\n",
    "    print(\"Saving cluster history to file\")\n",
    "    cluster_hist.write.csv(f\"data/spark_kmeans_cluster_hist_{self.k}.tsv\", \n",
    "                                sep=\"\\t\", mode=\"overwrite\", header=True)\n",
    "    return cluster_hist\n",
    "  \n",
    "  \n",
    "  def recommend_to_subset_of_users(self, users, K=72, append_I=False):\n",
    "    _I = \"I\" if append_I else \"\"\n",
    "    als_recs = self.als_model.recommendForUserSubset(users, numItems=K)\n",
    "    als_recs = als_recs.withColumn(\"als_rec\", als_recs.recommendations).drop(\"recommendations\")\n",
    "\n",
    "    # Since self.kmeans_train has all the users with the features already hot-encoded \n",
    "    # the next join speedup the pipeline for `users.` In reality\n",
    "    # we would have to transform the users features from user_master. \n",
    "    k_preds  = self.kmeans_model.transform(self.kmeans_train.join(users, [\"user_id\"], how=\"inner\"))\n",
    "    userRecs = (\n",
    "      self.cluster_hist.join(k_preds, [\"prediction\"], how=\"inner\")\n",
    "     .groupby(\"user_id\")\n",
    "     .agg(sf.collect_list(\"item_id\").alias(\"k_recs\") )\n",
    "    )\n",
    "\n",
    "    k_recs = userRecs.withColumn('k_recs', userRecs[\"k_recs\"])\n",
    "    \n",
    "    \n",
    "    def faro_shuffle(k_recs, als_rec, topN72):\n",
    "      \"\"\"\n",
    "      interweave kmeans and ALS recommendation list\n",
    "      Faro Shuffle: https://en.wikipedia.org/wiki/Faro_shuffle\n",
    "      \"\"\"\n",
    "      _k_recs = k_recs[:K]\n",
    "      if als_rec is not None:\n",
    "        _als_rec = [r.item_id for r in als_rec][:K]\n",
    "        \n",
    "        # Turns out that Faro Shuffle has not so good of nDCG\n",
    "        # ret = [r for pair in zip(_als_rec[:K//2], _k_recs[:K//2]) for r in pair]\n",
    "        ret = _als_rec\n",
    "        if len(ret)<K:\n",
    "          # als_recommendation has always 72 items. \n",
    "          # kMeans could have less\n",
    "          ret = ret + _als_rec[len(_k_recs):]\n",
    "      else:\n",
    "        ret = [r for r in _k_recs]\n",
    "        #ret = topN72.split(\",\")\n",
    "        if len(ret)<K:\n",
    "          ret = ret + topN72.split(\",\")[:K-len(ret)]\n",
    "\n",
    "      return ','.join([_I+str(r) for r in ret])\n",
    "    faro_shuffle_udf = sf.udf(faro_shuffle, StringType()) \n",
    "\n",
    "    both_recs = k_recs.join(als_recs, [\"user_id\"], how=\"outer\")\n",
    "    both_recs = both_recs.withColumn(\"topN\", sf.lit(\",\".join(self.top72) ))\n",
    "    both_recs = both_recs.withColumn(\"recommend_items\", \n",
    "                                     faro_shuffle_udf(\"k_recs\", \"als_rec\", \"topN\")\n",
    "                                    ).drop(\"k_recs\").drop(\"als_rec\").drop(\"topN\")\n",
    "    \n",
    "    return both_recs"
   ]
  },
  {
   "cell_type": "code",
   "execution_count": 58,
   "metadata": {
    "ExecuteTime": {
     "end_time": "2020-08-31T17:17:53.610933Z",
     "start_time": "2020-08-31T17:17:43.492309Z"
    }
   },
   "outputs": [],
   "source": [
    "recModel = RecModel(sqlContext, k=3000, rank=100)\n",
    "recs = recModel.recommend_to_subset_of_users(target_users, append_I=False)\n",
    "recs = recModel.recommend_to_subset_of_users(target_users, append_I=False)\n",
    "recs.write.csv(f\"data/spark_hybrid_model_target_users.tsv\", sep=\"\\t\", mode=\"overwrite\", header=True)"
   ]
  },
  {
   "cell_type": "markdown",
   "metadata": {
    "ExecuteTime": {
     "end_time": "2020-08-31T17:41:42.013070Z",
     "start_time": "2020-08-31T17:32:34.131968Z"
    },
    "heading_collapsed": true
   },
   "source": [
    "## Comparing Different Ranks and Number of Clusters"
   ]
  },
  {
   "cell_type": "code",
   "execution_count": 72,
   "metadata": {
    "ExecuteTime": {
     "end_time": "2020-08-31T17:59:47.447528Z",
     "start_time": "2020-08-31T17:41:42.015011Z"
    },
    "hidden": true
   },
   "outputs": [
    {
     "name": "stdout",
     "output_type": "stream",
     "text": [
      "250,000 / 250,343 (99.86)%\n",
      "Stoping Writer\n",
      "Entropy: 12.204594110253886\n",
      "nDCG avg:0.007964\n"
     ]
    }
   ],
   "source": [
    "recModel = RecModel(sqlContext, k=3000, rank=100)\n",
    "recs = recModel.recommend_to_subset_of_users(target_users, append_I=False)\n",
    "recs.write.csv(f\"data/spark_hybrid_model_target_users.tsv\", sep=\"\\t\", mode=\"overwrite\", header=True)\n",
    "\n",
    "filepath = f\"data/spark_hybrid_model_target_users.tsv\"\n",
    "nDCGs, entropy, globalVar = evaluate(filepath,  spark_file=True, spark_SQLContext=sqlContext)\n",
    "\n",
    "metrics = pd.DataFrame(nDCGs, columns=[\"user_id\", \"nDCGs\"])\n",
    "print(f\"nDCG avg:{metrics.nDCGs.mean():.4}\")"
   ]
  },
  {
   "cell_type": "code",
   "execution_count": 74,
   "metadata": {
    "ExecuteTime": {
     "end_time": "2020-09-01T08:32:22.348300Z",
     "start_time": "2020-09-01T07:58:51.238584Z"
    },
    "hidden": true
   },
   "outputs": [
    {
     "name": "stdout",
     "output_type": "stream",
     "text": [
      "250,000 / 250,343 (99.86)%\n",
      "Stoping Writer\n",
      "Entropy: 12.219242521785768\n",
      "nDCG avg:0.007972\n"
     ]
    }
   ],
   "source": [
    "recModel = RecModel(sqlContext, k=5000, rank=100)\n",
    "recs = recModel.recommend_to_subset_of_users(target_users, append_I=False)\n",
    "recs.write.csv(f\"data/spark_hybrid_model_target_users.tsv\", sep=\"\\t\", mode=\"overwrite\", header=True)\n",
    "\n",
    "filepath = f\"data/spark_hybrid_model_target_users.tsv\"\n",
    "nDCGs, entropy, globalVar = evaluate(filepath,  spark_file=True, spark_SQLContext=sqlContext)\n",
    "\n",
    "metrics = pd.DataFrame(nDCGs, columns=[\"user_id\", \"nDCGs\"])\n",
    "print(f\"nDCG avg:{metrics.nDCGs.mean():.4}\")"
   ]
  },
  {
   "cell_type": "code",
   "execution_count": 75,
   "metadata": {
    "ExecuteTime": {
     "end_time": "2020-09-01T09:04:12.231457Z",
     "start_time": "2020-09-01T08:32:22.349889Z"
    },
    "hidden": true
   },
   "outputs": [
    {
     "name": "stdout",
     "output_type": "stream",
     "text": [
      "250,000 / 250,343 (99.86)%\n",
      "Stoping Writer\n",
      "Entropy: 12.437360204779186\n",
      "nDCG avg:0.007957\n"
     ]
    }
   ],
   "source": [
    "recModel = RecModel(sqlContext, k=3000, rank=200)\n",
    "recs = recModel.recommend_to_subset_of_users(target_users, append_I=False)\n",
    "recs.write.csv(f\"data/spark_hybrid_model_target_users.tsv\", sep=\"\\t\", mode=\"overwrite\", header=True)\n",
    "\n",
    "filepath = f\"data/spark_hybrid_model_target_users.tsv\"\n",
    "nDCGs, entropy, globalVar = evaluate(filepath,  spark_file=True, spark_SQLContext=sqlContext)\n",
    "\n",
    "metrics = pd.DataFrame(nDCGs, columns=[\"user_id\", \"nDCGs\"])\n",
    "print(f\"nDCG avg:{metrics.nDCGs.mean():.4}\")"
   ]
  },
  {
   "cell_type": "code",
   "execution_count": 77,
   "metadata": {
    "ExecuteTime": {
     "end_time": "2020-09-01T10:54:14.485113Z",
     "start_time": "2020-09-01T10:12:11.063589Z"
    },
    "hidden": true
   },
   "outputs": [
    {
     "name": "stdout",
     "output_type": "stream",
     "text": [
      "250,000 / 250,343 (99.86)%\n",
      "Stoping Writer\n",
      "Entropy: 12.45401474738657\n",
      "nDCG avg:0.007965\n"
     ]
    }
   ],
   "source": [
    "recModel = RecModel(sqlContext, k=5000, rank=200)\n",
    "recs = recModel.recommend_to_subset_of_users(target_users, append_I=False)\n",
    "recs.write.csv(f\"data/spark_hybrid_model_target_users.tsv\", sep=\"\\t\", mode=\"overwrite\", header=True)\n",
    "\n",
    "filepath = f\"data/spark_hybrid_model_target_users.tsv\"\n",
    "nDCGs, entropy, globalVar = evaluate(filepath,  spark_file=True, spark_SQLContext=sqlContext)\n",
    "\n",
    "metrics = pd.DataFrame(nDCGs, columns=[\"user_id\", \"nDCGs\"])\n",
    "print(f\"nDCG avg:{metrics.nDCGs.mean():.4}\")"
   ]
  },
  {
   "cell_type": "code",
   "execution_count": 73,
   "metadata": {
    "ExecuteTime": {
     "end_time": "2020-08-31T19:29:47.616132Z",
     "start_time": "2020-08-31T19:29:46.977467Z"
    },
    "hidden": true
   },
   "outputs": [
    {
     "data": {
      "image/png": "[encoded data removed]",
      "text/plain": [
       "<Figure size 864x216 with 1 Axes>"
      ]
     },
     "metadata": {
      "needs_background": "light"
     },
     "output_type": "display_data"
    }
   ],
   "source": [
    "# k = 100 RecModel(sqlContext, k=3000, rank=100)\n",
    "avg = metrics.nDCGs.mean()\n",
    "_ = plt.figure(figsize=(12,3))\n",
    "_ = plt.hist(metrics.nDCGs, bins=50, label=f\"Avg:{avg:>21.4f}\\nEntropy@72: {entropy:.4f}\")\n",
    "plt.title(f\"{filepath}\")\n",
    "plt.xlabel(\"nDCG@72\")\n",
    "_ = plt.legend()"
   ]
  },
  {
   "cell_type": "code",
   "execution_count": 69,
   "metadata": {
    "ExecuteTime": {
     "end_time": "2020-08-31T17:32:14.862149Z",
     "start_time": "2020-08-31T17:32:14.491661Z"
    },
    "hidden": true
   },
   "outputs": [
    {
     "data": {
      "image/png": "[encoded data removed]",
      "text/plain": [
       "<Figure size 864x216 with 1 Axes>"
      ]
     },
     "metadata": {
      "needs_background": "light"
     },
     "output_type": "display_data"
    }
   ],
   "source": [
    "# k = 20 \n",
    "avg = metrics.nDCGs.mean()\n",
    "_ = plt.figure(figsize=(12,3))\n",
    "_ = plt.hist(metrics.nDCGs, bins=50, label=f\"Avg:{avg:>21.4f}\\nEntropy@72: {entropy:.4f}\")\n",
    "plt.title(f\"{filepath}\")\n",
    "plt.xlabel(\"nDCG@72\")\n",
    "_ = plt.legend()"
   ]
  },
  {
   "cell_type": "code",
   "execution_count": 64,
   "metadata": {
    "ExecuteTime": {
     "end_time": "2020-08-31T17:20:06.572943Z",
     "start_time": "2020-08-31T17:19:32.112428Z"
    },
    "hidden": true
   },
   "outputs": [
    {
     "name": "stdout",
     "output_type": "stream",
     "text": [
      "9,000 / 10,000 (90.00)%\n",
      "Stoping Writer\n",
      "Entropy: 12.184915426711873\n",
      "nDCG avg:0.008087\n"
     ]
    }
   ],
   "source": [
    "filepath = f\"data/spark_hybrid_model_target_users.tsv\"\n",
    "nDCGs, entropy, globalVar = evaluate(filepath,  spark_file=True, spark_SQLContext=sqlContext)\n",
    "\n",
    "metrics = pd.DataFrame(nDCGs, columns=[\"user_id\", \"nDCGs\"])\n",
    "print(f\"nDCG avg:{metrics.nDCGs.mean():.4}\")"
   ]
  },
  {
   "cell_type": "code",
   "execution_count": 56,
   "metadata": {
    "ExecuteTime": {
     "end_time": "2020-08-31T17:16:37.135290Z",
     "start_time": "2020-08-31T17:16:32.523070Z"
    },
    "hidden": true
   },
   "outputs": [
    {
     "name": "stdout",
     "output_type": "stream",
     "text": [
      "0 / 1,000 (0.00)%\n",
      "Stoping Writer\n",
      "Entropy: 12.04902999025668\n",
      "nDCG avg:0.00606\n"
     ]
    }
   ],
   "source": [
    "filepath = f\"data/spark_hybrid_model_target_users.tsv\"\n",
    "nDCGs, entropy, globalVar = evaluate(filepath,  spark_file=True, spark_SQLContext=sqlContext)\n",
    "\n",
    "metrics = pd.DataFrame(nDCGs, columns=[\"user_id\", \"nDCGs\"])\n",
    "print(f\"nDCG avg:{metrics.nDCGs.mean():.4}\")"
   ]
  },
  {
   "cell_type": "code",
   "execution_count": 7,
   "metadata": {
    "ExecuteTime": {
     "end_time": "2020-08-31T16:58:59.115823Z",
     "start_time": "2020-08-31T16:58:54.598006Z"
    },
    "hidden": true
   },
   "outputs": [
    {
     "name": "stdout",
     "output_type": "stream",
     "text": [
      "0 / 1,000 (0.00)%\n",
      "Stoping Writer\n",
      "Entropy: 12.03475684109685\n",
      "nDCG avg:0.005958\n"
     ]
    }
   ],
   "source": [
    "filepath = f\"data/spark_hybrid_model_target_users.tsv\"\n",
    "nDCGs, entropy, globalVar = evaluate(filepath,  spark_file=True, spark_SQLContext=sqlContext)\n",
    "\n",
    "metrics = pd.DataFrame(nDCGs, columns=[\"user_id\", \"nDCGs\"])\n",
    "print(f\"nDCG avg:{metrics.nDCGs.mean():.4}\")"
   ]
  },
  {
   "cell_type": "code",
   "execution_count": 243,
   "metadata": {
    "ExecuteTime": {
     "end_time": "2020-08-31T16:52:40.625757Z",
     "start_time": "2020-08-31T16:52:40.412306Z"
    },
    "hidden": true
   },
   "outputs": [
    {
     "data": {
      "image/png": "[encoded data removed]",
      "text/plain": [
       "<Figure size 864x216 with 1 Axes>"
      ]
     },
     "metadata": {
      "needs_background": "light"
     },
     "output_type": "display_data"
    }
   ],
   "source": [
    "# k = 20 \n",
    "avg = metrics.nDCGs.mean()\n",
    "_ = plt.figure(figsize=(12,3))\n",
    "_ = plt.hist(metrics.nDCGs, bins=50, label=f\"Avg:{avg:>21.4f}\\nEntropy@72: {entropy:.4f}\")\n",
    "plt.title(f\"{filepath}\")\n",
    "plt.xlabel(\"nDCG@72\")\n",
    "_ = plt.legend()"
   ]
  },
  {
   "cell_type": "code",
   "execution_count": 12,
   "metadata": {
    "ExecuteTime": {
     "end_time": "2020-08-31T17:01:00.355494Z",
     "start_time": "2020-08-31T17:00:55.882351Z"
    },
    "hidden": true
   },
   "outputs": [
    {
     "name": "stdout",
     "output_type": "stream",
     "text": [
      "0 / 1,000 (0.00)%\n",
      "Stoping Writer\n",
      "Entropy: 8.853704146456511\n",
      "nDCG avg:0.01111\n"
     ]
    }
   ],
   "source": [
    "filepath = f\"data/spark_hybrid_model_target_users.tsv\"\n",
    "nDCGs, entropy, globalVar = evaluate(filepath,  spark_file=True, spark_SQLContext=sqlContext)\n",
    "\n",
    "metrics = pd.DataFrame(nDCGs, columns=[\"user_id\", \"nDCGs\"])\n",
    "print(f\"nDCG avg:{metrics.nDCGs.mean():.4}\")"
   ]
  },
  {
   "cell_type": "markdown",
   "metadata": {},
   "source": [
    "## Prep Submission"
   ]
  },
  {
   "cell_type": "code",
   "execution_count": 33,
   "metadata": {
    "ExecuteTime": {
     "end_time": "2020-09-01T12:31:23.546391Z",
     "start_time": "2020-09-01T12:31:12.060805Z"
    }
   },
   "outputs": [],
   "source": [
    "recModel = RecModel(sqlContext, k=5000, rank=200)"
   ]
  },
  {
   "cell_type": "code",
   "execution_count": 34,
   "metadata": {
    "ExecuteTime": {
     "end_time": "2020-09-01T12:31:23.703891Z",
     "start_time": "2020-09-01T12:31:23.549684Z"
    }
   },
   "outputs": [],
   "source": [
    "recs = recModel.recommend_to_subset_of_users(target_users, append_I=True)"
   ]
  },
  {
   "cell_type": "code",
   "execution_count": 35,
   "metadata": {
    "ExecuteTime": {
     "end_time": "2020-09-01T12:31:40.745203Z",
     "start_time": "2020-09-01T12:31:40.731415Z"
    }
   },
   "outputs": [],
   "source": [
    "recs = recs.repartition(1)"
   ]
  },
  {
   "cell_type": "code",
   "execution_count": 36,
   "metadata": {
    "ExecuteTime": {
     "end_time": "2020-09-01T12:46:03.065724Z",
     "start_time": "2020-09-01T12:31:43.696009Z"
    }
   },
   "outputs": [],
   "source": [
    "recs.write.csv(f\"data/target_users_submission_k5000_r200.tsv\", sep=\"\\t\", mode=\"overwrite\", header=True)"
   ]
  },
  {
   "cell_type": "code",
   "execution_count": 54,
   "metadata": {
    "ExecuteTime": {
     "end_time": "2020-09-01T12:50:49.896142Z",
     "start_time": "2020-09-01T12:50:49.791476Z"
    },
    "scrolled": true
   },
   "outputs": [],
   "source": [
    "submission = sqlContext.read.csv(\"data/target_users_submission_k5000_r200.tsv\",\n",
    "                                 sep=\"\\t\", header=True).repartition(200)"
   ]
  },
  {
   "cell_type": "code",
   "execution_count": 55,
   "metadata": {
    "ExecuteTime": {
     "end_time": "2020-09-01T12:50:51.459135Z",
     "start_time": "2020-09-01T12:50:51.106101Z"
    }
   },
   "outputs": [
    {
     "data": {
      "text/plain": [
       "250343"
      ]
     },
     "execution_count": 55,
     "metadata": {},
     "output_type": "execute_result"
    }
   ],
   "source": [
    "submission.count()"
   ]
  },
  {
   "cell_type": "code",
   "execution_count": 56,
   "metadata": {
    "ExecuteTime": {
     "end_time": "2020-09-01T12:50:59.537354Z",
     "start_time": "2020-09-01T12:50:59.106179Z"
    }
   },
   "outputs": [
    {
     "data": {
      "text/plain": [
       "[Row(user_id='1253778', recommend_items='I77219,I74918,I72457,I75255,I70197,I83904,I68683,I261183,I330923,I339673,I85802,I323398,I79941,I265341,I88522,I81491,I111186,I98924,I287811,I82860,I222602,I110613,I78276,I80529,I133078,I77158,I280182,I269055,I72579,I18903,I232266,I103060,I196962,I213495,I148655,I98788,I348943,I77172,I8139,I78823,I334471,I302522,I68282,I67227,I85126,I51120,I121740,I112522,I235549,I122993,I184195,I189341,I201228,I89142,I288697,I328322,I481,I89467,I74342,I49293,I76426,I16755,I89117,I16787,I76294,I80492,I225744,I167115,I89484,I39030,I32750,I197887')]"
      ]
     },
     "execution_count": 56,
     "metadata": {},
     "output_type": "execute_result"
    }
   ],
   "source": [
    "submission.take(1)"
   ]
  },
  {
   "cell_type": "code",
   "execution_count": null,
   "metadata": {},
   "outputs": [],
   "source": []
  }
 ],
 "metadata": {
  "kernelspec": {
   "display_name": "Python 3",
   "language": "python",
   "name": "python3"
  },
  "language_info": {
   "codemirror_mode": {
    "name": "ipython",
    "version": 3
   },
   "file_extension": ".py",
   "mimetype": "text/x-python",
   "name": "python",
   "nbconvert_exporter": "python",
   "pygments_lexer": "ipython3",
   "version": "3.7.6"
  }
 },
 "nbformat": 4,
 "nbformat_minor": 4
}
